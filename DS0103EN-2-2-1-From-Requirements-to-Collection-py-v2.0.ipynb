{
 "cells": [
  {
   "cell_type": "markdown",
   "metadata": {
    "button": false,
    "new_sheet": false,
    "run_control": {
     "read_only": false
    }
   },
   "source": [
    "<a href=\"https://cognitiveclass.ai\"><img src = \"https://ibm.box.com/shared/static/9gegpsmnsoo25ikkbl4qzlvlyjbgxs5x.png\" width = 400> </a>\n",
    "\n",
    "<h1 align=center><font size = 5>From Requirements to Collection</font></h1>"
   ]
  },
  {
   "cell_type": "markdown",
   "metadata": {
    "button": false,
    "new_sheet": false,
    "run_control": {
     "read_only": false
    }
   },
   "source": [
    "## Introduction\n",
    "\n",
    "In this lab, we will continue learning about the data science methodology, and focus on the **Data Requirements** and the **Data Collection** stages."
   ]
  },
  {
   "cell_type": "markdown",
   "metadata": {
    "button": false,
    "new_sheet": false,
    "run_control": {
     "read_only": false
    }
   },
   "source": [
    "## Table of Contents\n",
    "\n",
    "<div class=\"alert alert-block alert-info\" style=\"margin-top: 20px\">\n",
    "1. [Data Requirements](#0)<br>\n",
    "2. [Data Collection](#2)<br>\n",
    "</div>\n",
    "<hr>"
   ]
  },
  {
   "cell_type": "markdown",
   "metadata": {
    "button": false,
    "new_sheet": false,
    "run_control": {
     "read_only": false
    }
   },
   "source": [
    "# Data Requirements <a id=\"0\"></a>"
   ]
  },
  {
   "cell_type": "markdown",
   "metadata": {
    "button": false,
    "new_sheet": false,
    "run_control": {
     "read_only": false
    }
   },
   "source": [
    " "
   ]
  },
  {
   "cell_type": "markdown",
   "metadata": {
    "button": false,
    "new_sheet": false,
    "run_control": {
     "read_only": false
    }
   },
   "source": [
    "<img src=\"https://s3-api.us-geo.objectstorage.softlayer.net/cf-courses-data/CognitiveClass/DS0103EN/labs/images/lab2_fig1_flowchart_data_requirements.png\" width=500>"
   ]
  },
  {
   "cell_type": "markdown",
   "metadata": {
    "button": false,
    "new_sheet": false,
    "run_control": {
     "read_only": false
    }
   },
   "source": [
    "In the videos, we learned that the chosen analytic approach determines the data requirements. Specifically, the analytic methods to be used require certain data content, formats and representations, guided by domain knowledge."
   ]
  },
  {
   "cell_type": "markdown",
   "metadata": {
    "button": false,
    "new_sheet": false,
    "run_control": {
     "read_only": false
    }
   },
   "source": [
    "In the **From Problem to Approach Lab**, we determined that automating the process of determining the cuisine of a given recipe or dish is potentially possible using the ingredients of the recipe or the dish. In order to build a model, we need extensive data of different cuisines and recipes."
   ]
  },
  {
   "cell_type": "markdown",
   "metadata": {
    "button": false,
    "new_sheet": false,
    "run_control": {
     "read_only": false
    }
   },
   "source": [
    "Identifying the required data fulfills the data requirements stage of the data science methodology.\n",
    "\n",
    "-----------"
   ]
  },
  {
   "cell_type": "markdown",
   "metadata": {
    "button": false,
    "new_sheet": false,
    "run_control": {
     "read_only": false
    }
   },
   "source": [
    "# Data Collection <a id=\"2\"></a>"
   ]
  },
  {
   "cell_type": "markdown",
   "metadata": {
    "button": false,
    "new_sheet": false,
    "run_control": {
     "read_only": false
    }
   },
   "source": [
    "<img src = \"https://s3-api.us-geo.objectstorage.softlayer.net/cf-courses-data/CognitiveClass/DS0103EN/labs/images/lab2_fig2_flowchart_data_collection.png\" width=500>"
   ]
  },
  {
   "cell_type": "markdown",
   "metadata": {
    "button": false,
    "new_sheet": false,
    "run_control": {
     "read_only": false
    }
   },
   "source": [
    "In the initial data collection stage, data scientists identify and gather the available data resources. These can be in the form of structured, unstructured, and even semi-structured data relevant to the problem domain."
   ]
  },
  {
   "cell_type": "markdown",
   "metadata": {
    "button": false,
    "new_sheet": false,
    "run_control": {
     "read_only": false
    }
   },
   "source": [
    "#### Web Scraping of Online Food Recipes \n",
    "\n",
    "A researcher named Yong-Yeol Ahn scraped tens of thousands of food recipes (cuisines and ingredients) from three different websites, namely:"
   ]
  },
  {
   "cell_type": "markdown",
   "metadata": {
    "button": false,
    "new_sheet": false,
    "run_control": {
     "read_only": false
    }
   },
   "source": [
    "<img src = \"https://s3-api.us-geo.objectstorage.softlayer.net/cf-courses-data/CognitiveClass/DS0103EN/labs/images/lab2_fig3_allrecipes.png\" width=500>\n",
    "\n",
    "www.allrecipes.com\n",
    "\n",
    "<img src = \"https://s3-api.us-geo.objectstorage.softlayer.net/cf-courses-data/CognitiveClass/DS0103EN/labs/images/lab2_fig4_epicurious.png\" width=500>\n",
    "\n",
    "www.epicurious.com\n",
    "\n",
    "<img src = \"https://s3-api.us-geo.objectstorage.softlayer.net/cf-courses-data/CognitiveClass/DS0103EN/labs/images/lab2_fig5_menupan.png\" width=500>\n",
    "\n",
    "www.menupan.com"
   ]
  },
  {
   "cell_type": "markdown",
   "metadata": {
    "button": false,
    "new_sheet": false,
    "run_control": {
     "read_only": false
    }
   },
   "source": [
    "For more information on Yong-Yeol Ahn and his research, you can read his paper on [Flavor Network and the Principles of Food Pairing](http://yongyeol.com/papers/ahn-flavornet-2011.pdf)."
   ]
  },
  {
   "cell_type": "markdown",
   "metadata": {
    "button": false,
    "new_sheet": false,
    "run_control": {
     "read_only": false
    }
   },
   "source": [
    "Luckily, we will not need to carry out any data collection as the data that we need to meet the goal defined in the business understanding stage is readily available."
   ]
  },
  {
   "cell_type": "markdown",
   "metadata": {
    "button": false,
    "new_sheet": false,
    "run_control": {
     "read_only": false
    }
   },
   "source": [
    "#### We have already acquired the data and placed it on an IBM server. Let's download the data and take a look at it."
   ]
  },
  {
   "cell_type": "markdown",
   "metadata": {
    "button": false,
    "new_sheet": false,
    "run_control": {
     "read_only": false
    }
   },
   "source": [
    "<strong>Important note:</strong> Please note that you are not expected to know how to program in Python. The following code is meant to illustrate the stage of data collection, so it is totally fine if you do not understand the individual lines of code. We have a full course on programming in Python, <a href=\"http://cocl.us/PY0101EN_DS0103EN_LAB2_PYTHON_Coursera\"><strong>Python for Data Science</strong></a>, which is also offered on Coursera. So make sure to complete the Python course if you are interested in learning how to program in Python."
   ]
  },
  {
   "cell_type": "markdown",
   "metadata": {
    "button": false,
    "new_sheet": false,
    "run_control": {
     "read_only": false
    }
   },
   "source": [
    "### Using this notebook:\n",
    "\n",
    "To run any of the following cells of code, you can type **Shift + Enter** to excute the code in a cell."
   ]
  },
  {
   "cell_type": "markdown",
   "metadata": {
    "button": false,
    "new_sheet": false,
    "run_control": {
     "read_only": false
    }
   },
   "source": [
    "Get the version of Python installed."
   ]
  },
  {
   "cell_type": "code",
   "execution_count": 1,
   "metadata": {
    "button": false,
    "new_sheet": false,
    "run_control": {
     "read_only": false
    }
   },
   "outputs": [
    {
     "name": "stderr",
     "output_type": "stream",
     "text": [
      "Python 3.6.3 :: Anaconda, Inc.\n"
     ]
    }
   ],
   "source": [
    "# check Python version\n",
    "!python -V"
   ]
  },
  {
   "cell_type": "markdown",
   "metadata": {
    "button": false,
    "new_sheet": false,
    "run_control": {
     "read_only": false
    }
   },
   "source": [
    "Read the data from the IBM server into a *pandas* dataframe."
   ]
  },
  {
   "cell_type": "code",
   "execution_count": 2,
   "metadata": {
    "button": false,
    "new_sheet": false,
    "run_control": {
     "read_only": false
    }
   },
   "outputs": [
    {
     "name": "stdout",
     "output_type": "stream",
     "text": [
      "Data read into dataframe!\n"
     ]
    }
   ],
   "source": [
    "import pandas as pd # download library to read data into dataframe\n",
    "pd.set_option('display.max_columns', None)\n",
    "\n",
    "recipes = pd.read_csv(\"https://s3-api.us-geo.objectstorage.softlayer.net/cf-courses-data/CognitiveClass/DS0103EN/labs/data/recipes.csv\")\n",
    "\n",
    "print(\"Data read into dataframe!\") # takes about 30 seconds"
   ]
  },
  {
   "cell_type": "markdown",
   "metadata": {
    "button": false,
    "new_sheet": false,
    "run_control": {
     "read_only": false
    }
   },
   "source": [
    "Show the first few rows."
   ]
  },
  {
   "cell_type": "code",
   "execution_count": 5,
   "metadata": {
    "button": false,
    "new_sheet": false,
    "run_control": {
     "read_only": false
    }
   },
   "outputs": [
    {
     "name": "stdout",
     "output_type": "stream",
     "text": [
      "      country almond angelica anise anise_seed apple apple_brandy apricot  \\\n",
      "0  Vietnamese     No       No    No         No    No           No      No   \n",
      "1  Vietnamese     No       No    No         No    No           No      No   \n",
      "2  Vietnamese     No       No    No         No    No           No      No   \n",
      "3  Vietnamese     No       No    No         No    No           No      No   \n",
      "4  Vietnamese     No       No    No         No    No           No      No   \n",
      "\n",
      "  armagnac artemisia artichoke asparagus avocado bacon baked_potato balm  \\\n",
      "0       No        No        No        No      No    No           No   No   \n",
      "1       No        No        No        No      No    No           No   No   \n",
      "2       No        No        No        No      No    No           No   No   \n",
      "3       No        No        No        No      No    No           No   No   \n",
      "4       No        No        No        No      No    No           No   No   \n",
      "\n",
      "  banana barley bartlett_pear basil bay bean beech beef beef_broth beef_liver  \\\n",
      "0     No     No            No   Yes  No   No    No   No         No         No   \n",
      "1     No     No            No    No  No   No    No   No         No         No   \n",
      "2     No     No            No    No  No   No    No   No         No         No   \n",
      "3     No     No            No   Yes  No  Yes    No   No        Yes         No   \n",
      "4     No     No            No    No  No   No    No   No         No         No   \n",
      "\n",
      "  beer beet bell_pepper bergamot berry bitter_orange black_bean black_currant  \\\n",
      "0   No   No          No       No    No            No         No            No   \n",
      "1   No   No          No       No    No            No         No            No   \n",
      "2   No   No          No       No    No            No         No            No   \n",
      "3   No   No          No       No    No            No         No            No   \n",
      "4   No   No          No       No    No            No         No            No   \n",
      "\n",
      "  black_mustard_seed_oil black_pepper black_raspberry black_sesame_seed  \\\n",
      "0                     No           No              No                No   \n",
      "1                     No          Yes              No                No   \n",
      "2                     No           No              No                No   \n",
      "3                     No           No              No                No   \n",
      "4                     No           No              No                No   \n",
      "\n",
      "  black_tea blackberry blackberry_brandy blue_cheese blueberry bone_oil  \\\n",
      "0        No         No                No          No        No       No   \n",
      "1        No         No                No          No        No       No   \n",
      "2        No         No                No          No        No       No   \n",
      "3        No         No                No          No        No       No   \n",
      "4        No         No                No          No        No       No   \n",
      "\n",
      "  bourbon_whiskey brandy brassica bread broccoli brown_rice brussels_sprout  \\\n",
      "0              No     No       No    No       No         No              No   \n",
      "1              No     No       No    No       No         No              No   \n",
      "2              No     No       No    No       No         No              No   \n",
      "3              No     No       No    No       No         No              No   \n",
      "4              No     No       No    No       No         No              No   \n",
      "\n",
      "  buckwheat butter buttermilk cabbage cabernet_sauvignon_wine cacao  \\\n",
      "0        No     No         No      No                      No    No   \n",
      "1        No     No         No      No                      No    No   \n",
      "2        No     No         No      No                      No    No   \n",
      "3        No     No         No      No                      No    No   \n",
      "4        No     No         No      No                      No    No   \n",
      "\n",
      "  camembert_cheese cane_molasses caraway cardamom carnation carob carrot  \\\n",
      "0               No            No      No       No        No    No    Yes   \n",
      "1               No            No      No       No        No    No     No   \n",
      "2               No            No      No       No        No    No     No   \n",
      "3               No            No      No       No        No    No     No   \n",
      "4               No            No      No       No        No    No     No   \n",
      "\n",
      "  cashew cassava catfish cauliflower caviar cayenne celery celery_oil cereal  \\\n",
      "0     No      No      No          No     No     Yes     No         No     No   \n",
      "1     No      No      No          No     No     Yes     No         No     No   \n",
      "2     No      No      No          No     No      No     No         No     No   \n",
      "3     No      No      No          No     No     Yes     No         No     No   \n",
      "4     No      No      No          No     No     Yes     No         No     No   \n",
      "\n",
      "  chamomile champagne_wine chayote cheddar_cheese cheese cherry cherry_brandy  \\\n",
      "0        No             No      No             No     No     No            No   \n",
      "1        No             No      No             No     No     No            No   \n",
      "2        No             No      No             No     No     No            No   \n",
      "3        No             No      No             No     No     No            No   \n",
      "4        No             No      No             No     No     No            No   \n",
      "\n",
      "  chervil chicken chicken_broth chicken_liver chickpea chicory  \\\n",
      "0      No      No            No            No       No      No   \n",
      "1      No      No            No            No       No      No   \n",
      "2      No      No            No            No       No      No   \n",
      "3      No      No            No            No       No      No   \n",
      "4      No      No            No            No       No      No   \n",
      "\n",
      "  chinese_cabbage chive cider cilantro cinnamon citrus citrus_peel clam clove  \\\n",
      "0              No    No    No      Yes       No     No          No   No    No   \n",
      "1              No    No    No       No       No     No          No   No    No   \n",
      "2              No    No    No       No       No     No          No   No    No   \n",
      "3              No    No    No      Yes       No     No          No   No    No   \n",
      "4              No    No    No       No       No     No          No   No    No   \n",
      "\n",
      "  cocoa coconut coconut_oil cod coffee cognac concord_grape condiment  \\\n",
      "0    No      No          No  No     No     No            No        No   \n",
      "1    No      No          No  No     No     No            No        No   \n",
      "2    No      No          No  No     No     No            No        No   \n",
      "3    No      No          No  No     No     No            No        No   \n",
      "4    No      No          No  No     No     No            No        No   \n",
      "\n",
      "  coriander corn corn_flake corn_grit cottage_cheese crab cranberry cream  \\\n",
      "0        No   No         No        No             No   No        No    No   \n",
      "1        No   No         No        No             No   No        No    No   \n",
      "2        No   No         No        No             No   No        No    No   \n",
      "3        No   No         No        No             No   No        No    No   \n",
      "4       Yes   No         No        No             No   No        No    No   \n",
      "\n",
      "  cream_cheese cucumber cumin cured_pork currant date dill durian eel egg  \\\n",
      "0           No      Yes    No         No      No   No   No     No  No  No   \n",
      "1           No       No    No         No      No   No   No     No  No  No   \n",
      "2           No       No    No         No      No   No   No     No  No  No   \n",
      "3           No       No    No         No      No   No   No     No  No  No   \n",
      "4           No      Yes    No         No      No   No   No     No  No  No   \n",
      "\n",
      "  egg_noodle elderberry emmental_cheese endive enokidake fennel fenugreek  \\\n",
      "0         No         No              No     No        No     No        No   \n",
      "1         No         No              No     No        No     No        No   \n",
      "2         No         No              No     No        No     No        No   \n",
      "3         No         No              No     No        No     No        No   \n",
      "4         No         No              No     No        No     No        No   \n",
      "\n",
      "  feta_cheese fig fish flower frankfurter fruit galanga gardenia garlic  \\\n",
      "0          No  No  Yes     No          No    No      No       No    Yes   \n",
      "1          No  No  Yes     No          No    No      No       No    Yes   \n",
      "2          No  No   No     No          No    No      No       No    Yes   \n",
      "3          No  No  Yes     No          No    No      No       No     No   \n",
      "4          No  No  Yes     No          No    No      No       No    Yes   \n",
      "\n",
      "  gelatin geranium gin ginger goat_cheese grape grape_brandy grape_juice  \\\n",
      "0      No       No  No     No          No    No           No          No   \n",
      "1      No       No  No     No          No    No           No          No   \n",
      "2      No       No  No     No          No    No           No          No   \n",
      "3      No       No  No    Yes          No    No           No          No   \n",
      "4      No       No  No     No          No    No           No          No   \n",
      "\n",
      "  grapefruit green_bell_pepper green_tea gruyere_cheese guava haddock ham  \\\n",
      "0         No                No        No             No    No      No  No   \n",
      "1         No                No        No             No    No      No  No   \n",
      "2         No                No        No             No    No      No  No   \n",
      "3         No                No        No             No    No      No  No   \n",
      "4         No                No        No             No    No      No  No   \n",
      "\n",
      "  hazelnut herring holy_basil honey hop horseradish huckleberry jamaican_rum  \\\n",
      "0       No      No         No    No  No          No          No           No   \n",
      "1       No      No         No    No  No          No          No           No   \n",
      "2       No      No         No    No  No          No          No           No   \n",
      "3       No      No         No    No  No          No          No           No   \n",
      "4       No      No         No    No  No          No          No           No   \n",
      "\n",
      "  japanese_plum jasmine jasmine_tea juniper_berry kaffir_lime kale  \\\n",
      "0            No      No          No            No          No   No   \n",
      "1            No      No          No            No          No   No   \n",
      "2            No      No          No            No          No   No   \n",
      "3            No      No          No            No          No   No   \n",
      "4            No      No          No            No          No   No   \n",
      "\n",
      "  katsuobushi kelp kidney_bean kiwi kohlrabi kumquat lamb lard laurel  \\\n",
      "0          No   No          No   No       No      No   No   No     No   \n",
      "1          No   No          No   No       No      No   No   No     No   \n",
      "2          No   No          No   No       No      No   No   No     No   \n",
      "3          No   No          No   No       No      No   No   No     No   \n",
      "4          No   No          No   No       No      No   No   No     No   \n",
      "\n",
      "  lavender leaf leek lemon lemon_juice lemon_peel lemongrass lentil lettuce  \\\n",
      "0       No   No   No    No          No         No         No     No     Yes   \n",
      "1       No   No   No    No          No         No         No     No      No   \n",
      "2       No   No   No    No          No         No         No     No      No   \n",
      "3       No   No   No    No          No         No         No     No      No   \n",
      "4       No   No   No   Yes          No         No         No     No      No   \n",
      "\n",
      "  licorice lilac_flower_oil lima_bean lime lime_juice lime_peel_oil  \\\n",
      "0       No               No        No   No        Yes            No   \n",
      "1       No               No        No   No         No            No   \n",
      "2       No               No        No   No        Yes            No   \n",
      "3       No               No        No  Yes        Yes            No   \n",
      "4       No               No        No   No        Yes            No   \n",
      "\n",
      "  lingonberry litchi liver lobster long_pepper lovage macadamia_nut macaroni  \\\n",
      "0          No     No    No      No          No     No            No       No   \n",
      "1          No     No    No      No          No     No            No       No   \n",
      "2          No     No    No      No          No     No            No       No   \n",
      "3          No     No    No      No          No     No            No       No   \n",
      "4          No     No    No      No          No     No            No       No   \n",
      "\n",
      "  mace mackerel malt mandarin mandarin_peel mango maple_syrup marjoram mate  \\\n",
      "0   No       No   No       No            No    No          No       No   No   \n",
      "1   No       No   No       No            No    No          No       No   No   \n",
      "2   No       No   No       No            No    No          No       No   No   \n",
      "3   No       No   No       No            No    No          No       No   No   \n",
      "4   No       No   No       No            No    No          No       No   No   \n",
      "\n",
      "  matsutake meat melon milk milk_fat mint mozzarella_cheese mung_bean  \\\n",
      "0        No   No    No   No       No  Yes                No        No   \n",
      "1        No   No    No   No       No   No                No        No   \n",
      "2        No   No    No   No       No   No                No        No   \n",
      "3        No   No    No   No       No  Yes                No        No   \n",
      "4        No   No    No   No       No  Yes                No        No   \n",
      "\n",
      "  munster_cheese muscat_grape mushroom mussel mustard mutton nectarine nira  \\\n",
      "0             No           No       No     No      No     No        No   No   \n",
      "1             No           No       No     No      No     No        No   No   \n",
      "2             No           No       No     No      No     No        No   No   \n",
      "3             No           No       No     No      No     No        No   No   \n",
      "4             No           No       No     No      No     No        No   No   \n",
      "\n",
      "  nut nutmeg oat oatmeal octopus okra olive olive_oil onion orange  \\\n",
      "0  No     No  No      No      No   No    No       Yes    No     No   \n",
      "1  No     No  No      No      No   No    No        No   Yes     No   \n",
      "2  No     No  No      No      No   No    No        No    No     No   \n",
      "3  No     No  No      No      No   No    No        No    No     No   \n",
      "4  No     No  No      No      No   No    No        No    No     No   \n",
      "\n",
      "  orange_flower orange_juice orange_peel oregano ouzo oyster palm papaya  \\\n",
      "0            No           No          No      No   No     No   No     No   \n",
      "1            No           No          No      No   No     No   No     No   \n",
      "2            No           No          No      No   No     No   No     No   \n",
      "3            No           No          No      No   No     No   No     No   \n",
      "4            No           No          No      No   No     No   No     No   \n",
      "\n",
      "  parmesan_cheese parsley parsnip passion_fruit  pea peach peanut  \\\n",
      "0              No      No      No            No   No    No     No   \n",
      "1              No      No      No            No   No    No     No   \n",
      "2              No      No      No            No   No    No     No   \n",
      "3              No      No      No            No  Yes    No     No   \n",
      "4              No      No      No            No   No    No    Yes   \n",
      "\n",
      "  peanut_butter peanut_oil pear pear_brandy pecan pelargonium pepper  \\\n",
      "0            No         No   No          No    No          No     No   \n",
      "1            No         No   No          No    No          No     No   \n",
      "2            No         No   No          No    No          No     No   \n",
      "3            No         No   No          No    No          No     No   \n",
      "4            No         No   No          No    No          No     No   \n",
      "\n",
      "  peppermint peppermint_oil pimenta pimento pineapple pistachio plum popcorn  \\\n",
      "0         No             No      No      No        No        No   No      No   \n",
      "1         No             No      No      No        No        No   No      No   \n",
      "2         No             No      No      No        No        No   No      No   \n",
      "3         No             No      No      No        No        No   No      No   \n",
      "4         No             No      No      No        No        No   No      No   \n",
      "\n",
      "  porcini pork pork_liver pork_sausage port_wine potato potato_chip prawn  \\\n",
      "0      No   No         No           No        No     No          No    No   \n",
      "1      No   No         No           No        No     No          No    No   \n",
      "2      No   No         No           No        No     No          No    No   \n",
      "3      No   No         No           No        No     No          No    No   \n",
      "4      No   No         No           No        No     No          No    No   \n",
      "\n",
      "  prickly_pear provolone_cheese pumpkin quince radish raisin rapeseed  \\\n",
      "0           No               No      No     No     No     No       No   \n",
      "1           No               No      No     No     No     No       No   \n",
      "2           No               No      No     No     No     No       No   \n",
      "3           No               No      No     No     No     No       No   \n",
      "4           No               No      No     No     No     No       No   \n",
      "\n",
      "  raspberry raw_beef red_algae red_bean red_kidney_bean red_wine rhubarb rice  \\\n",
      "0        No       No        No       No              No       No      No  Yes   \n",
      "1        No       No        No       No              No       No      No   No   \n",
      "2        No       No        No       No              No       No      No   No   \n",
      "3        No       No        No       No              No       No      No  Yes   \n",
      "4        No       No        No       No              No       No      No  Yes   \n",
      "\n",
      "  roasted_almond roasted_beef roasted_hazelnut roasted_meat roasted_nut  \\\n",
      "0             No           No               No           No          No   \n",
      "1             No           No               No           No          No   \n",
      "2             No           No               No           No          No   \n",
      "3             No          Yes               No           No          No   \n",
      "4             No           No               No           No          No   \n",
      "\n",
      "  roasted_peanut roasted_pecan roasted_pork roasted_sesame_seed romano_cheese  \\\n",
      "0             No            No           No                  No            No   \n",
      "1             No            No           No                  No            No   \n",
      "2             No            No           No                  No            No   \n",
      "3             No            No           No                  No            No   \n",
      "4             No            No           No                  No            No   \n",
      "\n",
      "  root roquefort_cheese rose rosemary rum rutabaga rye_bread rye_flour  \\\n",
      "0   No               No   No       No  No       No        No        No   \n",
      "1   No               No   No       No  No       No        No        No   \n",
      "2   No               No   No       No  No       No        No        No   \n",
      "3   No               No   No       No  No       No        No        No   \n",
      "4   No               No   No       No  No       No        No        No   \n",
      "\n",
      "  saffron sage sake salmon salmon_roe sassafras sauerkraut savory scallion  \\\n",
      "0      No   No   No     No         No        No         No     No       No   \n",
      "1      No   No   No     No         No        No         No     No       No   \n",
      "2      No   No   No     No         No        No         No     No       No   \n",
      "3      No   No   No     No         No        No         No     No       No   \n",
      "4      No   No   No     No         No        No         No     No      Yes   \n",
      "\n",
      "  scallop sea_algae seaweed seed sesame_oil sesame_seed shallot sheep_cheese  \\\n",
      "0      No        No      No  Yes         No          No      No           No   \n",
      "1      No        No      No  Yes         No          No      No           No   \n",
      "2      No        No      No   No         No          No      No           No   \n",
      "3      No        No      No   No         No          No     Yes           No   \n",
      "4      No        No      No   No         No          No      No           No   \n",
      "\n",
      "  shellfish sherry shiitake shrimp smoke smoked_fish smoked_salmon  \\\n",
      "0        No     No      Yes    Yes    No          No            No   \n",
      "1        No     No       No     No    No          No            No   \n",
      "2        No     No       No     No    No          No            No   \n",
      "3        No     No       No     No    No          No            No   \n",
      "4        No     No       No    Yes    No          No            No   \n",
      "\n",
      "  smoked_sausage sour_cherry sour_milk soy_sauce soybean soybean_oil  \\\n",
      "0             No          No        No        No      No          No   \n",
      "1             No          No        No        No      No          No   \n",
      "2             No          No        No       Yes      No          No   \n",
      "3             No          No        No        No      No          No   \n",
      "4             No          No        No        No      No          No   \n",
      "\n",
      "  spearmint squash squid star_anise starch strawberry strawberry_jam  \\\n",
      "0        No     No    No         No     No         No             No   \n",
      "1        No     No    No         No     No         No             No   \n",
      "2        No     No    No         No     No         No             No   \n",
      "3        No     No    No         No     No         No             No   \n",
      "4        No     No    No         No     No         No             No   \n",
      "\n",
      "  strawberry_juice sturgeon_caviar sumac sunflower_oil sweet_potato  \\\n",
      "0               No              No    No            No           No   \n",
      "1               No              No    No            No           No   \n",
      "2               No              No    No            No           No   \n",
      "3               No              No    No            No           No   \n",
      "4               No              No    No            No           No   \n",
      "\n",
      "  swiss_cheese tabasco_pepper tamarind tangerine tarragon tea tequila  \\\n",
      "0           No             No       No        No       No  No      No   \n",
      "1           No             No       No        No       No  No      No   \n",
      "2           No             No       No        No       No  No      No   \n",
      "3           No             No       No        No       No  No      No   \n",
      "4           No             No       No        No       No  No      No   \n",
      "\n",
      "  thai_pepper thyme tomato tomato_juice truffle tuna turkey turmeric turnip  \\\n",
      "0          No    No     No           No      No   No     No       No     No   \n",
      "1          No    No     No           No      No   No     No       No     No   \n",
      "2         Yes    No     No           No      No   No     No       No     No   \n",
      "3          No    No     No           No      No   No     No       No     No   \n",
      "4          No    No     No           No      No   No     No       No     No   \n",
      "\n",
      "  vanilla veal vegetable vegetable_oil vinegar violet walnut wasabi  \\\n",
      "0      No   No        No            No     Yes     No     No     No   \n",
      "1      No   No        No            No      No     No     No     No   \n",
      "2      No   No        No            No      No     No     No     No   \n",
      "3      No   No        No           Yes      No     No     No     No   \n",
      "4      No   No        No            No     Yes     No     No     No   \n",
      "\n",
      "  watercress watermelon wheat wheat_bread whiskey white_bread white_wine  \\\n",
      "0         No         No    No          No      No          No         No   \n",
      "1         No         No    No          No      No          No         No   \n",
      "2         No         No    No          No      No          No         No   \n",
      "3         No         No    No          No      No          No         No   \n",
      "4         No         No    No          No      No          No         No   \n",
      "\n",
      "  whole_grain_wheat_flour wine wood yam yeast yogurt zucchini  \n",
      "0                      No   No   No  No    No     No       No  \n",
      "1                      No   No   No  No    No     No       No  \n",
      "2                      No   No   No  No    No     No       No  \n",
      "3                      No   No   No  No    No     No       No  \n",
      "4                      No   No   No  No    No     No       No  \n"
     ]
    }
   ],
   "source": [
    "print(recipes.head())"
   ]
  },
  {
   "cell_type": "markdown",
   "metadata": {
    "button": false,
    "new_sheet": false,
    "run_control": {
     "read_only": false
    }
   },
   "source": [
    "Get the dimensions of the dataframe."
   ]
  },
  {
   "cell_type": "code",
   "execution_count": 6,
   "metadata": {
    "button": false,
    "new_sheet": false,
    "run_control": {
     "read_only": false
    }
   },
   "outputs": [
    {
     "data": {
      "text/plain": [
       "(57691, 384)"
      ]
     },
     "execution_count": 6,
     "metadata": {},
     "output_type": "execute_result"
    }
   ],
   "source": [
    "recipes.shape"
   ]
  },
  {
   "cell_type": "markdown",
   "metadata": {
    "button": false,
    "new_sheet": false,
    "run_control": {
     "read_only": false
    }
   },
   "source": [
    "So our dataset consists of 57,691 recipes. Each row represents a recipe, and for each recipe, the corresponding cuisine is documented as well as whether 384 ingredients exist in the recipe or not beginning with almond and ending with zucchini.\n",
    "\n",
    "-----------"
   ]
  },
  {
   "cell_type": "markdown",
   "metadata": {
    "button": false,
    "new_sheet": false,
    "run_control": {
     "read_only": false
    }
   },
   "source": [
    "Now that the data collection stage is complete, data scientists typically use descriptive statistics and visualization techniques to better understand the data and get acquainted with it. Data scientists, essentially, explore the data to:\n",
    "\n",
    "* understand its content,\n",
    "* assess its quality,\n",
    "* discover any interesting preliminary insights, and,\n",
    "* determine whether additional data is necessary to fill any gaps in the data."
   ]
  },
  {
   "cell_type": "markdown",
   "metadata": {
    "button": false,
    "new_sheet": false,
    "run_control": {
     "read_only": false
    }
   },
   "source": [
    "### Thank you for completing this lab!\n",
    "\n",
    "This notebook was created by [Alex Aklson](https://www.linkedin.com/in/aklson/). I hope you found this lab session interesting. Feel free to contact me if you have any questions!"
   ]
  },
  {
   "cell_type": "markdown",
   "metadata": {
    "button": false,
    "new_sheet": false,
    "run_control": {
     "read_only": false
    }
   },
   "source": [
    "This notebook is part of a course on **Coursera** called *Data Science Methodology*. If you accessed this notebook outside the course, you can take this course, online by clicking [here](http://cocl.us/DS0103EN_Coursera_LAB2)."
   ]
  },
  {
   "cell_type": "markdown",
   "metadata": {
    "button": false,
    "new_sheet": false,
    "run_control": {
     "read_only": false
    }
   },
   "source": [
    "<hr>\n",
    "\n",
    "Copyright &copy; 2019 [Cognitive Class](https://cognitiveclass.ai/?utm_source=bducopyrightlink&utm_medium=dswb&utm_campaign=bdu). This notebook and its source code are released under the terms of the [MIT License](https://bigdatauniversity.com/mit-license/)."
   ]
  }
 ],
 "metadata": {
  "kernelspec": {
   "display_name": "Python 3",
   "language": "python",
   "name": "python3"
  },
  "language_info": {
   "codemirror_mode": {
    "name": "ipython",
    "version": 3
   },
   "file_extension": ".py",
   "mimetype": "text/x-python",
   "name": "python",
   "nbconvert_exporter": "python",
   "pygments_lexer": "ipython3",
   "version": "3.6.3"
  },
  "widgets": {
   "state": {},
   "version": "1.1.2"
  }
 },
 "nbformat": 4,
 "nbformat_minor": 2
}
